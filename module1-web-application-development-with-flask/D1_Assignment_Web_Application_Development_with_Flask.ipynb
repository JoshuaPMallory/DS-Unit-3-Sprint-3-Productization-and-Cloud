{
 "cells": [
  {
   "cell_type": "markdown",
   "metadata": {},
   "source": [
    "Lambda School Data Science\n",
    "\n",
    "*Unit 3, Sprint 3, Module 1 Assignment*\n",
    "\n",
    "---"
   ]
  },
  {
   "cell_type": "markdown",
   "metadata": {},
   "source": [
    "# Web Application Development with Flask\n",
    "\n",
    "In the modern day, most applications we interact with are *web* applications -\n",
    "client-server architectures delivered via HTTP and accessed with a web browser.\n",
    "As a data scientist we will generally not build such applications, but we do\n",
    "have to *understand* them and their components."
   ]
  },
  {
   "cell_type": "markdown",
   "metadata": {},
   "source": [
    "## Learning Objectives\n",
    "\n",
    "- Distinguish between front-end, back-end, database, and what tasks are\n",
    "  appropriate for which\n",
    "- Create a simple Python web application that exposes an API to URL endpoints"
   ]
  },
  {
   "cell_type": "markdown",
   "metadata": {},
   "source": [
    "## Before Lecture\n",
    "\n",
    "Read up on [Flask](http://flask.pocoo.org/), a \"microframework\" for developing\n",
    "web applications. All this really means is that it's small and modular, and\n",
    "mostly just provides for URL routing and responses - for other things\n",
    "(templates, database, forms) you pick and choose your own other packages (and\n",
    "we'll give you some specific choices for this week).\n",
    "\n",
    "This is in contrast with [Django](https://www.djangoproject.com/), the most\n",
    "popular \"industry-grade\" Python web application framework. Django is\n",
    "*opinionated*, and comes with built-in modules for pretty much everything.\n",
    "\n",
    "There are more projects built with Django than Flask, but Flask is solidly\n",
    "second place in the Python web application ecosystem, and is a better minimal\n",
    "choice for a data scientist who just wants to get some results."
   ]
  },
  {
   "cell_type": "markdown",
   "metadata": {},
   "source": [
    "## Live Lecture Task\n",
    "\n",
    "We're going to kick off with an overview of the major parts of a web application\n",
    "(front-end, back-end, database), and then develop our own prototype web\n",
    "application using Flask and SQLite. A summary of the overall picture:\n",
    "\n",
    "- Front-end: the \"look-and-feel\" of an application, as well as any logic that is\n",
    "  executed by client-side (browser) JavaScript (which has grown surprisingly\n",
    "  powerful)\n",
    "- Back-end: the routing and \"business logic\", where responses\n",
    "  (what the client sees) are built and APIs and databases are accessed\n",
    "- Database: the \"source of truth\", where data is persisted and updated"
   ]
  },
  {
   "cell_type": "markdown",
   "metadata": {},
   "source": [
    "## Assignment\n",
    "\n",
    "- Reproduce the steps from lecture: write and run a basic local Flask web\n",
    "  application\n",
    "- Create a model for `Tweet` and `User` as demonstrated in lecture, and populate\n",
    "  your local (SQLite) database with some invented data (at least 6 Tweets and 2\n",
    "  Users)\n",
    "- For tomorrow, make sure to sign up for the [Twitter Developer\n",
    "  API](https://developer.twitter.com/en/apply-for-access) and\n",
    "  [Basilica](https://www.basilica.ai/), as we will use both APIs in our\n",
    "  application to get more and real data!"
   ]
  },
  {
   "cell_type": "code",
   "execution_count": 2,
   "metadata": {},
   "outputs": [
    {
     "data": {
      "text/plain": [
       "'C:\\\\Users\\\\IshGish\\\\Google Drive\\\\Z - Mine\\\\Programming\\\\Lambda\\\\DS9\\\\U3\\\\W3'"
      ]
     },
     "execution_count": 2,
     "metadata": {},
     "output_type": "execute_result"
    }
   ],
   "source": [
    "import os\n",
    "\n",
    "os.getcwd()"
   ]
  },
  {
   "cell_type": "code",
   "execution_count": 8,
   "metadata": {},
   "outputs": [
    {
     "data": {
      "text/plain": [
       "'C:\\\\Users\\\\IshGish\\\\Google Drive\\\\Z - Mine\\\\Programming\\\\Lambda\\\\DS9\\\\U3\\\\W3\\\\twitoff-master\\\\app'"
      ]
     },
     "execution_count": 8,
     "metadata": {},
     "output_type": "execute_result"
    }
   ],
   "source": [
    "os.chdir('twitoff-master/app/')\n",
    "os.getcwd()"
   ]
  },
  {
   "cell_type": "code",
   "execution_count": 27,
   "metadata": {},
   "outputs": [
    {
     "name": "stdout",
     "output_type": "stream",
     "text": [
      " Volume in drive C has no label.\n",
      " Volume Serial Number is 6CC6-33FE\n",
      "\n",
      " Directory of C:\\Users\\IshGish\\Google Drive\\Z - Mine\\Programming\\Lambda\\DS9\\U3\\W3\\twitoff-master\\app\n",
      "\n",
      "16-Dec-19  16:20    <DIR>          .\n",
      "16-Dec-19  16:20    <DIR>          ..\n",
      "16-Dec-19  16:14    <DIR>          .ipynb_checkpoints\n",
      "16-Dec-19  15:19               386 app.py\n",
      "16-Dec-19  15:32           240,593 many_ascii.html\n",
      "16-Dec-19  16:20           240,576 many_ascii.py\n",
      "16-Dec-19  10:39               406 models.py\n",
      "16-Dec-19  16:16               128 routes.py\n",
      "16-Dec-19  15:49                90 __init__.py\n",
      "16-Dec-19  16:17    <DIR>          __pycache__\n",
      "               6 File(s)        482,179 bytes\n",
      "               4 Dir(s)  1,514,793,521,152 bytes free\n"
     ]
    }
   ],
   "source": [
    "!dir"
   ]
  },
  {
   "cell_type": "code",
   "execution_count": 35,
   "metadata": {},
   "outputs": [
    {
     "data": {
      "text/plain": [
       "True"
      ]
     },
     "execution_count": 35,
     "metadata": {},
     "output_type": "execute_result"
    }
   ],
   "source": [
    "import webbrowser\n",
    "\n",
    "\n",
    "webbrowser.open('many_ascii.html')"
   ]
  },
  {
   "cell_type": "code",
   "execution_count": 34,
   "metadata": {},
   "outputs": [],
   "source": [
    "!many_ascii.html"
   ]
  },
  {
   "cell_type": "code",
   "execution_count": 24,
   "metadata": {},
   "outputs": [
    {
     "ename": "AttributeError",
     "evalue": "module 'many_ascii' has no attribute 'function'",
     "output_type": "error",
     "traceback": [
      "\u001b[1;31m---------------------------------------------------------------------------\u001b[0m",
      "\u001b[1;31mAttributeError\u001b[0m                            Traceback (most recent call last)",
      "\u001b[1;32m<ipython-input-24-85fef895ba5c>\u001b[0m in \u001b[0;36m<module>\u001b[1;34m\u001b[0m\n\u001b[0;32m      2\u001b[0m \u001b[1;33m\u001b[0m\u001b[0m\n\u001b[0;32m      3\u001b[0m \u001b[1;33m\u001b[0m\u001b[0m\n\u001b[1;32m----> 4\u001b[1;33m \u001b[0mmany_ascii\u001b[0m\u001b[1;33m.\u001b[0m\u001b[0mfunction\u001b[0m\u001b[1;33m(\u001b[0m\u001b[1;33m)\u001b[0m\u001b[1;33m\u001b[0m\u001b[1;33m\u001b[0m\u001b[0m\n\u001b[0m",
      "\u001b[1;31mAttributeError\u001b[0m: module 'many_ascii' has no attribute 'function'"
     ]
    }
   ],
   "source": [
    "import many_ascii\n",
    "\n",
    "\n",
    "many_ascii.function()"
   ]
  },
  {
   "cell_type": "markdown",
   "metadata": {},
   "source": [
    "## Resources and Stretch Goals\n",
    "\n",
    "- [Jinja2](http://jinja.pocoo.org/) is the dominant template engine, which you\n",
    "  will use to build the look and layout of the pages in your application\n",
    "- [Flask-SQLAlchemy](http://flask-sqlalchemy.pocoo.org/2.3/) is an ORM\n",
    "  (object-relational mapping), and will let us both (a) not have to write SQL,\n",
    "  and (b) use OOP to interact with data with multiple backends (SQLite locally,\n",
    "  and PostgreSQL in the cloud)\n",
    "- [SQLAlchemy Data\n",
    "  Types](https://docs.sqlalchemy.org/en/latest/core/type_basics.html) are needed\n",
    "  to build usable models that will translate to SQL\n",
    "- Making the front-end look nice is very much a stretch goal throughout this\n",
    "  sprint - but if you are interested in it, [Picnic CSS](https://picnicss.com/)\n",
    "  and [Umbrella JS](https://umbrellajs.com/) are nice lightweight and modern\n",
    "  tools (alternatives to Bootstrap and JQuery respectively)\n",
    "- Experiment with SQLAlchemy models - you can add more fields of interest to the\n",
    "  `Tweet` and `User` models and/or add different models for other purposes"
   ]
  },
  {
   "cell_type": "code",
   "execution_count": null,
   "metadata": {},
   "outputs": [],
   "source": []
  }
 ],
 "metadata": {
  "kernelspec": {
   "display_name": "Python 3",
   "language": "python",
   "name": "python3"
  },
  "language_info": {
   "codemirror_mode": {
    "name": "ipython",
    "version": 3
   },
   "file_extension": ".py",
   "mimetype": "text/x-python",
   "name": "python",
   "nbconvert_exporter": "python",
   "pygments_lexer": "ipython3",
   "version": "3.7.5"
  }
 },
 "nbformat": 4,
 "nbformat_minor": 4
}
